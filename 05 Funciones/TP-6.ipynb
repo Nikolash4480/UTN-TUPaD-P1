{
 "cells": [
  {
   "cell_type": "code",
   "execution_count": 3,
   "id": "e8b94204",
   "metadata": {},
   "outputs": [
    {
     "name": "stdout",
     "output_type": "stream",
     "text": [
      "Hola Mundo!\n"
     ]
    }
   ],
   "source": [
    "def imprimir_hola_mundo():\n",
    "    print(\"Hola Mundo!\")\n",
    "\n",
    "if __name__ == \"__main__\":\n",
    "    imprimir_hola_mundo()"
   ]
  },
  {
   "cell_type": "code",
   "execution_count": 4,
   "id": "61c13d5c",
   "metadata": {},
   "outputs": [
    {
     "name": "stdout",
     "output_type": "stream",
     "text": [
      "Hola niko!\n"
     ]
    }
   ],
   "source": [
    "def saludar_usuario(nombre):\n",
    "    return f\"Hola {nombre}!\"\n",
    "\n",
    "if __name__ == \"__main__\":\n",
    "    nombre_usuario = input(\"Por favor, ingresa tu nombre: \")\n",
    "    mensaje_saludo = saludar_usuario(nombre_usuario)\n",
    "    print(mensaje_saludo)"
   ]
  },
  {
   "cell_type": "code",
   "execution_count": 5,
   "id": "72913f85",
   "metadata": {},
   "outputs": [
    {
     "name": "stdout",
     "output_type": "stream",
     "text": [
      "Soy Nikolas Barroso, tengo 25 años y vivo en Lima.\n"
     ]
    }
   ],
   "source": [
    "def informacion_personal(nombre, apellido, edad, residencia):\n",
    "    print(f\"Soy {nombre} {apellido}, tengo {edad} años y vivo en {residencia}.\")\n",
    "\n",
    "if __name__ == \"__main__\":\n",
    "    nombre = input(\"Ingresa tu nombre: \")\n",
    "    apellido = input(\"Ingresa tu apellido: \")\n",
    "    try:\n",
    "        edad = int(input(\"Ingresa tu edad: \"))\n",
    "    except ValueError:\n",
    "        edad = \"dato inválido\" # Manejo básico para edad no numérica\n",
    "        print(\"Edad ingresada no es un número. Se mostrará como 'dato inválido'.\")\n",
    "    residencia = input(\"Ingresa tu lugar de residencia: \")\n",
    "    informacion_personal(nombre, apellido, edad, residencia)"
   ]
  },
  {
   "cell_type": "code",
   "execution_count": 6,
   "id": "128f2cde",
   "metadata": {},
   "outputs": [
    {
     "name": "stdout",
     "output_type": "stream",
     "text": [
      "El área del círculo es: 2827.43\n",
      "El perímetro del círculo es: 188.50\n"
     ]
    }
   ],
   "source": [
    "import math\n",
    "\n",
    "def calcular_area_circulo(radio):\n",
    "    return math.pi * (radio ** 2)\n",
    "\n",
    "def calcular_perimetro_circulo(radio):\n",
    "    return 2 * math.pi * radio\n",
    "\n",
    "if __name__ == \"__main__\":\n",
    "    try:\n",
    "        radio = float(input(\"Ingresa el radio del círculo: \"))\n",
    "        if radio < 0:\n",
    "            print(\"El radio no puede ser negativo.\")\n",
    "        else:\n",
    "            area = calcular_area_circulo(radio)\n",
    "            perimetro = calcular_perimetro_circulo(radio)\n",
    "            print(f\"El área del círculo es: {area:.2f}\")\n",
    "            print(f\"El perímetro del círculo es: {perimetro:.2f}\")\n",
    "    except ValueError:\n",
    "        print(\"Entrada inválida. Por favor, ingresa un número para el radio.\")"
   ]
  },
  {
   "cell_type": "code",
   "execution_count": 8,
   "id": "a2e9e798",
   "metadata": {},
   "outputs": [
    {
     "name": "stdout",
     "output_type": "stream",
     "text": [
      "3600 segundos equivalen a 1.00 horas.\n"
     ]
    }
   ],
   "source": [
    "def segundos_a_horas(segundos):\n",
    "    return segundos / 3600\n",
    "\n",
    "if __name__ == \"__main__\":\n",
    "    try:\n",
    "        segundos = int(input(\"Ingresa una cantidad de segundos: \"))\n",
    "        if segundos < 0:\n",
    "            print(\"La cantidad de segundos no puede ser negativa.\")\n",
    "        else:\n",
    "            horas = segundos_a_horas(segundos)\n",
    "            print(f\"{segundos} segundos equivalen a {horas:.2f} horas.\")\n",
    "    except ValueError:\n",
    "        print(\"Entrada inválida. Por favor, ingresa un número entero para los segundos.\")"
   ]
  },
  {
   "cell_type": "code",
   "execution_count": 9,
   "id": "0069891c",
   "metadata": {},
   "outputs": [
    {
     "name": "stdout",
     "output_type": "stream",
     "text": [
      "Tabla de multiplicar del 25:\n",
      "25 x 1 = 25\n",
      "25 x 2 = 50\n",
      "25 x 3 = 75\n",
      "25 x 4 = 100\n",
      "25 x 5 = 125\n",
      "25 x 6 = 150\n",
      "25 x 7 = 175\n",
      "25 x 8 = 200\n",
      "25 x 9 = 225\n",
      "25 x 10 = 250\n"
     ]
    }
   ],
   "source": [
    "def tabla_multiplicar(numero):\n",
    "    print(f\"Tabla de multiplicar del {numero}:\")\n",
    "    for i in range(1, 11):\n",
    "        print(f\"{numero} x {i} = {numero * i}\")\n",
    "\n",
    "if __name__ == \"__main__\":\n",
    "    try:\n",
    "        numero = int(input(\"Ingresa un número para ver su tabla de multiplicar: \"))\n",
    "        tabla_multiplicar(numero)\n",
    "    except ValueError:\n",
    "        print(\"Entrada inválida. Por favor, ingresa un número entero.\")"
   ]
  },
  {
   "cell_type": "code",
   "execution_count": 10,
   "id": "07f9957c",
   "metadata": {},
   "outputs": [
    {
     "name": "stdout",
     "output_type": "stream",
     "text": [
      "Resultados de las operaciones básicas para 10.0 y 25.0:\n",
      "Suma: 35.0\n",
      "Resta: -15.0\n",
      "Multiplicación: 250.0\n",
      "División: 0.4\n"
     ]
    }
   ],
   "source": [
    "def operaciones_basicas(a, b):\n",
    "    suma = a + b\n",
    "    resta = a - b\n",
    "    multiplicacion = a * b\n",
    "    division = None\n",
    "    if b != 0:\n",
    "        division = a / b\n",
    "    return (suma, resta, multiplicacion, division)\n",
    "\n",
    "if __name__ == \"__main__\":\n",
    "    try:\n",
    "        num1 = float(input(\"Ingresa el primer número: \"))\n",
    "        num2 = float(input(\"Ingresa el segundo número: \"))\n",
    "\n",
    "        resultados = operaciones_basicas(num1, num2)\n",
    "        print(f\"Resultados de las operaciones básicas para {num1} y {num2}:\")\n",
    "        print(f\"Suma: {resultados[0]}\")\n",
    "        print(f\"Resta: {resultados[1]}\")\n",
    "        print(f\"Multiplicación: {resultados[2]}\")\n",
    "        if resultados[3] is not None:\n",
    "            print(f\"División: {resultados[3]}\")\n",
    "        else:\n",
    "            print(\"División: No se puede dividir por cero.\")\n",
    "    except ValueError:\n",
    "        print(\"Entrada inválida. Por favor, ingresa números válidos.\")"
   ]
  },
  {
   "cell_type": "code",
   "execution_count": 11,
   "id": "6bfa00f8",
   "metadata": {},
   "outputs": [
    {
     "name": "stdout",
     "output_type": "stream",
     "text": [
      "Tu Índice de Masa Corporal (IMC) es: 21.26\n"
     ]
    }
   ],
   "source": [
    "def calcular_imc(peso, altura):\n",
    "    if altura <= 0:\n",
    "        return None\n",
    "    return peso / (altura ** 2)\n",
    "\n",
    "if __name__ == \"__main__\":\n",
    "    try:\n",
    "        peso = float(input(\"Ingresa tu peso en kilogramos (ej. 70.5): \"))\n",
    "        altura = float(input(\"Ingresa tu altura en metros (ej. 1.75): \"))\n",
    "\n",
    "        if peso <= 0:\n",
    "            print(\"El peso debe ser un valor positivo.\")\n",
    "        elif altura <= 0:\n",
    "            print(\"La altura debe ser un valor positivo.\")\n",
    "        else:\n",
    "            imc = calcular_imc(peso, altura)\n",
    "            if imc is not None:\n",
    "                print(f\"Tu Índice de Masa Corporal (IMC) es: {imc:.2f}\")\n",
    "            else:\n",
    "                print(\"No se pudo calcular el IMC. Asegúrate de que la altura sea válida.\")\n",
    "    except ValueError:\n",
    "        print(\"Entrada inválida. Por favor, ingresa números válidos para peso y altura.\")"
   ]
  },
  {
   "cell_type": "code",
   "execution_count": 12,
   "id": "d76c5146",
   "metadata": {},
   "outputs": [
    {
     "name": "stdout",
     "output_type": "stream",
     "text": [
      "8.0°C equivalen a 46.40°F.\n"
     ]
    }
   ],
   "source": [
    "def celsius_a_fahrenheit(celsius):\n",
    "    return (celsius * 9/5) + 32\n",
    "\n",
    "if __name__ == \"__main__\":\n",
    "    try:\n",
    "        celsius = float(input(\"Ingresa la temperatura en grados Celsius: \"))\n",
    "        fahrenheit = celsius_a_fahrenheit(celsius)\n",
    "        print(f\"{celsius}°C equivalen a {fahrenheit:.2f}°F.\")\n",
    "    except ValueError:\n",
    "        print(\"Entrada inválida. Por favor, ingresa un número para la temperatura.\")"
   ]
  },
  {
   "cell_type": "code",
   "execution_count": 13,
   "id": "1f88a025",
   "metadata": {},
   "outputs": [
    {
     "name": "stdout",
     "output_type": "stream",
     "text": [
      "El promedio de 70.0, 25.0 y 44.0 es: 46.33\n"
     ]
    }
   ],
   "source": [
    "def calcular_promedio(a, b, c):\n",
    "    return (a + b + c) / 3\n",
    "\n",
    "if __name__ == \"__main__\":\n",
    "    try:\n",
    "        num1 = float(input(\"Ingresa el primer número: \"))\n",
    "        num2 = float(input(\"Ingresa el segundo número: \"))\n",
    "        num3 = float(input(\"Ingresa el tercer número: \"))\n",
    "\n",
    "        promedio = calcular_promedio(num1, num2, num3)\n",
    "        print(f\"El promedio de {num1}, {num2} y {num3} es: {promedio:.2f}\")\n",
    "    except ValueError:\n",
    "        print(\"Entrada inválida. Por favor, ingresa números válidos.\")"
   ]
  }
 ],
 "metadata": {
  "kernelspec": {
   "display_name": "Python 3",
   "language": "python",
   "name": "python3"
  },
  "language_info": {
   "codemirror_mode": {
    "name": "ipython",
    "version": 3
   },
   "file_extension": ".py",
   "mimetype": "text/x-python",
   "name": "python",
   "nbconvert_exporter": "python",
   "pygments_lexer": "ipython3",
   "version": "3.11.9"
  }
 },
 "nbformat": 4,
 "nbformat_minor": 5
}
