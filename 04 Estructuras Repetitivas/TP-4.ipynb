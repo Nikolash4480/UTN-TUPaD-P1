{
 "cells": [
  {
   "cell_type": "markdown",
   "id": "f6eb3bf5",
   "metadata": {},
   "source": [
    "Práctico 4: Estructuras repetitivas\n",
    "Alumno: Nikolas Barroso"
   ]
  },
  {
   "cell_type": "markdown",
   "id": "42d732b7",
   "metadata": {},
   "source": [
    "1) Crea un programa que imprima en pantalla todos los números enteros desde 0 hasta 100\n",
    "(incluyendo ambos extremos), en orden creciente, mostrando un número por línea."
   ]
  },
  {
   "cell_type": "code",
   "execution_count": null,
   "id": "bd4e2c4f",
   "metadata": {},
   "outputs": [],
   "source": [
    "for i in range(101):\n",
    "  print(i)  "
   ]
  },
  {
   "cell_type": "markdown",
   "id": "667be18c",
   "metadata": {},
   "source": [
    "2) Desarrolla un programa que solicite al usuario un número entero y determine la cantidad de dígitos que contiene."
   ]
  },
  {
   "cell_type": "code",
   "execution_count": 5,
   "id": "88dc314e",
   "metadata": {},
   "outputs": [
    {
     "name": "stdout",
     "output_type": "stream",
     "text": [
      "El número 490120 tiene 6 dígitos.\n"
     ]
    }
   ],
   "source": [
    "numero = int(input(\"Digite um número: \"))\n",
    "cantidad = len(str(numero))\n",
    "print(f\"El número {numero} tiene {cantidad} dígitos.\")"
   ]
  },
  {
   "cell_type": "markdown",
   "id": "2d17f6f2",
   "metadata": {},
   "source": [
    "3) Escribe un programa que sume todos los números enteros comprendidos entre dos valores\n",
    "dados por el usuario, excluyendo esos dos valores."
   ]
  },
  {
   "cell_type": "code",
   "execution_count": 10,
   "id": "61be8d0d",
   "metadata": {},
   "outputs": [
    {
     "name": "stdout",
     "output_type": "stream",
     "text": [
      "La suma entre los numeros comprendidos es de 44.\n"
     ]
    }
   ],
   "source": [
    "num1 = int(input(\"Digite el primer número: \"))\n",
    "num2 = int(input(\"Digite el segundo número: \"))\n",
    "\n",
    "contador = 0\n",
    "for i in range(num1 + 1, num2):\n",
    "    contador += i\n",
    "\n",
    "print(f\"La suma entre los numeros comprendidos es de {contador}.\")"
   ]
  },
  {
   "cell_type": "markdown",
   "id": "2b5684b2",
   "metadata": {},
   "source": [
    "4) Elabora un programa que permita al usuario ingresar números enteros y los sume en\n",
    "secuencia. El programa debe detenerse y mostrar el total acumulado cuando el usuario ingrese\n",
    "un 0."
   ]
  },
  {
   "cell_type": "code",
   "execution_count": 5,
   "id": "14da6c4e",
   "metadata": {},
   "outputs": [
    {
     "name": "stdout",
     "output_type": "stream",
     "text": [
      "La suma de los números es 35.\n"
     ]
    }
   ],
   "source": [
    "suma = 0\n",
    "while numero != 0:\n",
    "    numero = int(input(\"Ingrese un número (0 para salir): \"))\n",
    "    suma += numero\n",
    "\n",
    "\n",
    "print(f\"La suma de los números es {suma}.\")"
   ]
  },
  {
   "cell_type": "markdown",
   "id": "0571d9e8",
   "metadata": {},
   "source": [
    "5) Crea un juego en el que el usuario deba adivinar un número aleatorio entre 0 y 9. Al final, el programa debe mostrar cuántos intentos fueron necesarios para acertar el número."
   ]
  },
  {
   "cell_type": "code",
   "execution_count": 6,
   "id": "4eb1dfad",
   "metadata": {},
   "outputs": [
    {
     "name": "stdout",
     "output_type": "stream",
     "text": [
      "Felicidades, acertaste el numero 7 en 6 intentos.\n"
     ]
    }
   ],
   "source": [
    "from random import randint\n",
    "numero_aleatorio = randint(0, 9)\n",
    "intentos = 0\n",
    "intento = 0\n",
    "\n",
    "while intento != numero_aleatorio:\n",
    "    intento = int(input(\"Adivina el número entre 0 y 9: \"))\n",
    "    intentos += 1\n",
    "    if intento == numero_aleatorio:\n",
    "        print(f\"Felicidades, acertaste el numero {numero_aleatorio} en {intentos} intentos.\")\n",
    "\n"
   ]
  },
  {
   "cell_type": "markdown",
   "id": "0198683e",
   "metadata": {},
   "source": [
    "6) Desarrolla un programa que imprima en pantalla todos los números pares comprendidos\n",
    "entre 0 y 100, en orden decreciente."
   ]
  },
  {
   "cell_type": "code",
   "execution_count": null,
   "id": "c64de12b",
   "metadata": {},
   "outputs": [],
   "source": [
    "numero = 100\n",
    "while numero != 0:\n",
    "  numero -= 2\n",
    "  print(numero)"
   ]
  },
  {
   "cell_type": "markdown",
   "id": "205bfdf3",
   "metadata": {},
   "source": [
    "7) Crea un programa que calcule la suma de todos los números comprendidos entre 0 y un\n",
    "número entero positivo indicado por el usuario."
   ]
  },
  {
   "cell_type": "code",
   "execution_count": null,
   "id": "a19b136b",
   "metadata": {},
   "outputs": [],
   "source": [
    "numero = int(input(\"Ingrese un número: \"))\n",
    "suma = 0\n",
    "\n",
    "for i in range(0, numero + 1):\n",
    "    suma += i\n",
    "    print(suma)\n",
    "\n",
    "print(f\"La suma de los números del 0 al {numero} es {suma}.\")"
   ]
  },
  {
   "cell_type": "markdown",
   "id": "50d9f712",
   "metadata": {},
   "source": [
    "8) Escribe un programa que permita al usuario ingresar 100 números enteros. Luego, el\n",
    "programa debe indicar cuántos de estos números son pares, cuántos son impares, cuántos son\n",
    "negativos y cuántos son positivos. (Nota: para probar el programa puedes usar una cantidad\n",
    "menor, pero debe estar preparado para procesar 100 números con un solo cambio)."
   ]
  },
  {
   "cell_type": "code",
   "execution_count": 7,
   "id": "cce2b15f",
   "metadata": {},
   "outputs": [
    {
     "name": "stdout",
     "output_type": "stream",
     "text": [
      "La cantidad de números positivos es: 7\n",
      "La cantidad de números negativos es: 3\n",
      "La cantidad de números pares es: 8\n",
      "La cantidad de números impares es: 2\n"
     ]
    }
   ],
   "source": [
    "contador = 0\n",
    "pares = 0\n",
    "impares = 0\n",
    "negativos = 0\n",
    "positivos = 0\n",
    "\n",
    "while contador < 10:\n",
    "  numero = int(input(\"Ingrese un número: \"))\n",
    "  contador += 1\n",
    "\n",
    "  if numero >= 0:\n",
    "    positivos += 1\n",
    "  elif numero < 0:\n",
    "    negativos += 1\n",
    "\n",
    "  if numero % 2 == 0:\n",
    "    pares += 1\n",
    "  else:\n",
    "    impares += 1\n",
    "\n",
    "print(f\"La cantidad de números positivos es: {positivos}\\n\"\n",
    "      f\"La cantidad de números negativos es: {negativos}\\n\"\n",
    "      f\"La cantidad de números pares es: {pares}\\n\"\n",
    "      f\"La cantidad de números impares es: {impares}\")\n"
   ]
  },
  {
   "cell_type": "markdown",
   "id": "8b51ff93",
   "metadata": {},
   "source": [
    "9) Elabora un programa que permita al usuario ingresar 100 números enteros y luego calcule la media de esos valores. (Nota: puedes probar el programa con una cantidad menor, pero debe poder procesar 100 números cambiando solo un valor)."
   ]
  },
  {
   "cell_type": "code",
   "execution_count": null,
   "id": "a8ec8d78",
   "metadata": {},
   "outputs": [],
   "source": [
    "contador = 0\n",
    "suma = 0\n",
    "\n",
    "while contador < 10:\n",
    "  numero = int(input(\"Ingrese un numero:\"))\n",
    "  print(numero)\n",
    "  suma += numero\n",
    "  contador += 1\n",
    "\n",
    "print(f\"La media de los numeros es {suma / contador}\")"
   ]
  },
  {
   "cell_type": "markdown",
   "id": "89004689",
   "metadata": {},
   "source": [
    "10) Escribe un programa que invierta el orden de los dígitos de un número ingresado por el\n",
    "usuario. Ejemplo: si el usuario ingresa 547, el programa debe mostrar 745."
   ]
  },
  {
   "cell_type": "code",
   "execution_count": 20,
   "id": "decc00bf",
   "metadata": {},
   "outputs": [
    {
     "name": "stdout",
     "output_type": "stream",
     "text": [
      "El número invertido es: 4321\n"
     ]
    }
   ],
   "source": [
    "numero = str(input(\"Ingrese un número: \"))\n",
    "num_invertido = \"\"\n",
    "\n",
    "for i in range(len(numero)):\n",
    "  num_invertido += numero[-(i + 1)]\n",
    "\n",
    "print(f\"El número invertido es: {num_invertido}\")"
   ]
  },
  {
   "cell_type": "code",
   "execution_count": 22,
   "id": "a75934ac",
   "metadata": {},
   "outputs": [
    {
     "name": "stdout",
     "output_type": "stream",
     "text": [
      "0\n",
      "6\n"
     ]
    }
   ],
   "source": [
    "for i in range(0, 10 , 2):\n",
    "  if i % 3 == 0:\n",
    "    print(i)"
   ]
  },
  {
   "cell_type": "code",
   "execution_count": 23,
   "id": "80135234",
   "metadata": {},
   "outputs": [
    {
     "name": "stdout",
     "output_type": "stream",
     "text": [
      "24\n"
     ]
    }
   ],
   "source": [
    "nums = [1, 2, 3, 4, 5]\n",
    "result = 1\n",
    "for num in nums:\n",
    "  result *= num\n",
    "  if result > 10:\n",
    "    break\n",
    "print(result)"
   ]
  }
 ],
 "metadata": {
  "kernelspec": {
   "display_name": "Python 3",
   "language": "python",
   "name": "python3"
  },
  "language_info": {
   "codemirror_mode": {
    "name": "ipython",
    "version": 3
   },
   "file_extension": ".py",
   "mimetype": "text/x-python",
   "name": "python",
   "nbconvert_exporter": "python",
   "pygments_lexer": "ipython3",
   "version": "3.11.9"
  }
 },
 "nbformat": 4,
 "nbformat_minor": 5
}
