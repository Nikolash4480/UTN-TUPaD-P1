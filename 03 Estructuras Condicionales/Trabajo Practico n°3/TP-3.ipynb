{
 "cells": [
  {
   "cell_type": "markdown",
   "id": "b6a06f75",
   "metadata": {},
   "source": [
    "1) Escribir un programa que solicite la edad del usuario. Si el usuario es mayor de 18 años, deberá mostrar un mensaje en pantalla que diga “Es mayor de edad”."
   ]
  },
  {
   "cell_type": "code",
   "execution_count": null,
   "id": "b88e2135",
   "metadata": {},
   "outputs": [
    {
     "name": "stdout",
     "output_type": "stream",
     "text": [
      "Es mayor de edad\n"
     ]
    }
   ],
   "source": [
    "edad = int(input(\"Ingrese su edad:\"))\n",
    "\n",
    "if edad > 18:\n",
    "  print(\"Es mayor de edad\")\n",
    "else:\n",
    "  print(\"Es menor de edad\")"
   ]
  },
  {
   "cell_type": "markdown",
   "id": "4b95566a",
   "metadata": {},
   "source": [
    "2) Escribir un programa que solicite su nota al usuario. Si la nota es mayor o igual a 6, deberá mostrar por pantalla un mensaje que diga “Aprobado”; en caso contrario deberá mostrar el mensaje “Desaprobado”."
   ]
  },
  {
   "cell_type": "code",
   "execution_count": null,
   "id": "83a40f25",
   "metadata": {},
   "outputs": [],
   "source": [
    "nota_usuario = int(input(\"Ingrese su nota:\"))\n",
    "\n",
    "if nota_usuario >= 6:\n",
    "  print(\"Aprobado\")\n",
    "else:\n",
    "  print(\"Desaprobado\")"
   ]
  },
  {
   "cell_type": "markdown",
   "id": "37450ea2",
   "metadata": {},
   "source": [
    "3) Escribir un programa que permita ingresar solo números pares. Si el usuario ingresa un\n",
    "número par, imprimir por en pantalla el mensaje \"Ha ingresado un número par\"; en caso contrario, imprimir por pantalla \"Por favor, ingrese un número par\". Nota: investigar el uso del operador de módulo (%) en Python para evaluar si un número es par o impar."
   ]
  },
  {
   "cell_type": "code",
   "execution_count": null,
   "id": "f82e1814",
   "metadata": {},
   "outputs": [],
   "source": [
    "num_usuario = int(input(\"Ingrese un numero:\"))\n",
    "\n",
    "if (num_usuario % 2 == 0):\n",
    "  print(\"Ha ingresado un número par\")\n",
    "else:\n",
    "  print(\"Por favor, ingrese un número par\")"
   ]
  },
  {
   "cell_type": "markdown",
   "id": "44ac62b9",
   "metadata": {},
   "source": [
    "4) Escribir un programa que solicite al usuario su edad e imprima por pantalla a cuál de las siguientes categorías pertenece:\n",
    "● Niño/a: menor de 12 años.\n",
    "● Adolescente: mayor o igual que 12 años y menor que 18 años.\n",
    "● Adulto/a joven: mayor o igual que 18 años y menor que 30 años.\n",
    "● Adulto/a: mayor o igual que 30 años."
   ]
  },
  {
   "cell_type": "code",
   "execution_count": 7,
   "id": "3517eded",
   "metadata": {},
   "outputs": [
    {
     "name": "stdout",
     "output_type": "stream",
     "text": [
      "Es niño/a\n"
     ]
    }
   ],
   "source": [
    "edad = int(input(\"Ingrese su edad:\"))\n",
    "\n",
    "if edad <= 12:\n",
    "  print(\"Es niño/a\")\n",
    "elif edad >= 12 and edad < 18:\n",
    "  print(\"Es adolescente\")\n",
    "elif edad >= 18 and edad < 30:\n",
    "  print(\"Es adulto/a joven\")\n",
    "else:\n",
    "  print(\"Es adulto/a\")"
   ]
  },
  {
   "cell_type": "markdown",
   "id": "50fed738",
   "metadata": {},
   "source": [
    "5) Escribir un programa que permita introducir contraseñas de entre 8 y 14 caracteres\n",
    "(incluyendo 8 y 14). Si el usuario ingresa una contraseña de longitud adecuada, imprimir por en pantalla el mensaje \"Ha ingresado una contraseña correcta\"; en caso contrario, imprimir por pantalla \"Por favor, ingrese una contraseña de entre 8 y 14 caracteres\". Nota: investigue el uso de la función len() en Python para evaluar la cantidad de elementos que tiene un iterable tal como una lista o un string."
   ]
  },
  {
   "cell_type": "code",
   "execution_count": null,
   "id": "062d67d3",
   "metadata": {},
   "outputs": [],
   "source": [
    "contraseña = input(\"Ingrese una contraseña:\")\n",
    "\n",
    "if 8 <= len(contraseña) <= 14:\n",
    "  print(\"Ha ingresado una contraseña correcta\")\n",
    "else:\n",
    "  print(\"Por favor, ingrese una contraseña de entre 8 y 14 caracteres\")"
   ]
  },
  {
   "cell_type": "markdown",
   "id": "c7142858",
   "metadata": {},
   "source": [
    "6) El paquete statistics de python contiene funciones que permiten tomar una lista de números y calcular la moda, la mediana y la media de dichos números. Un ejemplo de su uso es el siguiente:\n",
    "\n",
    "from statistics import mode, median, mean\n",
    "mi_lista = [1,2,5,5,3]\n",
    "mean(mi_lista)\n",
    "\n",
    "En la documentación oficial se puede encontrar más información sobre este paquete:\n",
    "https://docs.python.org/es/3.8/library/statistics.html.\n",
    "La moda (mode), la mediana (median) y la media (mean) son parámetros estadísticos que se\n",
    "pueden utilizar para predecir la forma de una distribución normal a partir del siguiente criterio:\n",
    "  ● Sesgo positivo o a la derecha: cuando la media es mayor que la mediana y, a su vez, la\n",
    "mediana es mayor que la moda.\n",
    "  ● Sesgo negativo o a la izquierda: cuando la media es menor que la mediana y, a su vez,\n",
    "la mediana es menor que la moda.\n",
    "  ● Sin sesgo: cuando la media, la mediana y la moda son iguales.\n",
    "Teniendo en cuenta lo antes mencionado, escribir un programa que tome la lista\n",
    "numeros_aleatorios, calcule su moda, su mediana y su media y las compare para determinar si hay sesgo positivo, negativo o no hay sesgo. Imprimir el resultado por pantalla.\n",
    "Definir la lista numeros_aleatorios de la siguiente forma:\n",
    "\n",
    "import random\n",
    "numeros_aleatorios = [random.randint(1, 100) for i in range(50)]\n",
    "\n",
    "Nota: el bloque de código anterior crea una lista con 50 números entre 1 y 100 elegidos de\n",
    "forma aleatoria."
   ]
  },
  {
   "cell_type": "code",
   "execution_count": null,
   "id": "a387e308",
   "metadata": {},
   "outputs": [
    {
     "name": "stdout",
     "output_type": "stream",
     "text": [
      "Sin sesgo\n"
     ]
    }
   ],
   "source": [
    "from statistics import mode, median, mean\n",
    "import random\n",
    "numeros_aleatorios = [random.randint(1, 100) for i in range(20)]\n",
    "\n",
    "moda = mode(numeros_aleatorios)\n",
    "mediana = median(numeros_aleatorios)\n",
    "media = mean(numeros_aleatorios)\n",
    "\n",
    "if media > mediana and mediana > moda:\n",
    "  print(\"Sesgo positivo\")\n",
    "elif media < mediana and mediana < moda:\n",
    "  print(\"Sesgo negativo\")\n",
    "else:\n",
    "  print(\"Sin sesgo\")\n"
   ]
  },
  {
   "cell_type": "markdown",
   "id": "d8fa2351",
   "metadata": {},
   "source": [
    "7) Escribir un programa que solicite una frase o palabra al usuario. Si el string ingresado termina con vocal, añadir un signo de exclamación al final e imprimir el string resultante por pantalla; en caso contrario, dejar el string tal cual lo ingresó el usuario e imprimirlo por pantalla."
   ]
  },
  {
   "cell_type": "code",
   "execution_count": null,
   "id": "fd069b58",
   "metadata": {},
   "outputs": [
    {
     "name": "stdout",
     "output_type": "stream",
     "text": [
      "bueno!\n"
     ]
    }
   ],
   "source": [
    "string_usuario = input(\"Ingrese una frase o palabra:\")\n",
    "ultima_letra = string_usuario[-1].lower()\n",
    "vocales = \"aeiou\"\n",
    "\n",
    "if ultima_letra in vocales:\n",
    "  print(string_usuario + \"!\")\n",
    "else:\n",
    "  print(string_usuario)"
   ]
  },
  {
   "cell_type": "markdown",
   "id": "928c947f",
   "metadata": {},
   "source": [
    "8) Escribir un programa que solicite al usuario que ingrese su nombre y el número 1, 2 o 3\n",
    "dependiendo de la opción que desee:\n",
    "1. Si quiere su nombre en mayúsculas. Por ejemplo: PEDRO.\n",
    "2. Si quiere su nombre en minúsculas. Por ejemplo: pedro.\n",
    "3. Si quiere su nombre con la primera letra mayúscula. Por ejemplo: Pedro.\n",
    "El programa debe transformar el nombre ingresado de acuerdo a la opción seleccionada por el\n",
    "lower() y title() de Python para convertir entre mayúsculas y minúsculas."
   ]
  },
  {
   "cell_type": "code",
   "execution_count": null,
   "id": "70871719",
   "metadata": {},
   "outputs": [
    {
     "name": "stdout",
     "output_type": "stream",
     "text": [
      "1. Si quiere su nombre en mayúsculas. Por ejemplo: PEDRO.\n",
      "2. Si quiere su nombre en minúsculas. Por ejemplo: pedro.\n",
      "3. Si quiere su nombre con la primera letra mayúscula. Por ejemplo: Pedro.\n",
      "NIKOLAS\n"
     ]
    }
   ],
   "source": [
    "nombre = input(\"Ingrese su nombre:\")\n",
    "\n",
    "print(\"1. Si quiere su nombre en mayúsculas. Por ejemplo: PEDRO.\")\n",
    "print(\"2. Si quiere su nombre en minúsculas. Por ejemplo: pedro.\")\n",
    "print(\"3. Si quiere su nombre con la primera letra mayúscula. Por ejemplo: Pedro.\")\n",
    "\n",
    "numero_usuario = int(input(f\"Seleccione una de las siguientes opciones:\"))\n",
    "\n",
    "if numero_usuario == 1:\n",
    "  print(nombre.upper())\n",
    "elif numero_usuario == 2:\n",
    "  print(nombre.lower())\n",
    "else:\n",
    "  print(nombre.title())"
   ]
  },
  {
   "cell_type": "markdown",
   "id": "727f4ecd",
   "metadata": {},
   "source": [
    "9) Escribir un programa que pida al usuario la magnitud de un terremoto, clasifique la\n",
    "magnitud en una de las siguientes categorías según la escala de Richter e imprima el resultado\n",
    "por pantalla:\n",
    "1. Menor que 3: \"Muy leve\" (imperceptible).\n",
    "2. Mayor o igual que 3 y menor que 4: \"Leve\" (ligeramente perceptible).\n",
    "3. Mayor o igual que 4 y menor que 5: \"Moderado\" (sentido por personas, pero\n",
    "generalmente no causa daños).\n",
    "4. Mayor o igual que 5 y menor que 6: \"Fuerte\" (puede causar daños en estructuras\n",
    "débiles).\n",
    "5. Mayor o igual que 6 y menor que 7: \"Muy Fuerte\" (puede causar daños significativos).\n",
    "6. Mayor o igual que 7: \"Extremo\" (puede causar graves daños a gran escala)"
   ]
  },
  {
   "cell_type": "code",
   "execution_count": null,
   "id": "9231fe67",
   "metadata": {},
   "outputs": [],
   "source": [
    "magnitud = float(input(\"Ingrese la magnitud del terremoto en la escala de Richter: \"))\n",
    "\n",
    "if magnitud < 3:\n",
    "    categoria = \"Muy leve (imperceptible)\"\n",
    "elif 3 <= magnitud < 4:\n",
    "    categoria = \"Leve (ligeramente perceptible)\"\n",
    "elif 4 <= magnitud < 5:\n",
    "    categoria = \"Moderado (sentido por personas, pero generalmente no causa daños)\"\n",
    "elif 5 <= magnitud < 6:\n",
    "    categoria = \"Fuerte (puede causar daños en estructuras débiles)\"\n",
    "elif 6 <= magnitud < 7:\n",
    "    categoria = \"Muy Fuerte (puede causar daños significativos)\"\n",
    "else:\n",
    "    categoria = \"Extremo (puede causar graves daños a gran escala)\"\n",
    "\n",
    "print(f\"Un terremoto de magnitud {magnitud} en la escala de Richter se considera: {categoria}\")"
   ]
  },
  {
   "cell_type": "markdown",
   "id": "fe743f07",
   "metadata": {},
   "source": [
    "10) Escribir un programa que pregunte al usuario en cuál hemisferio se encuentra (N/S), qué mes\n",
    "del año es y qué día es. El programa deberá utilizar esa información para imprimir por pantalla\n",
    "si el usuario se encuentra en otoño, invierno, primavera o verano.\n"
   ]
  },
  {
   "cell_type": "code",
   "execution_count": 1,
   "id": "805e31e0",
   "metadata": {},
   "outputs": [
    {
     "name": "stdout",
     "output_type": "stream",
     "text": [
      "En el hemisferio Norte, se encuentra en la estacion verano.\n"
     ]
    }
   ],
   "source": [
    "hemisferio = input(\"Ingrese el hemisferio correspondiente, Norte o Sur:\")\n",
    "mes = int(input(\"Ingrese el mes (1-12):\"))\n",
    "dia = int(input(\"Ingrese el dia:\"))\n",
    "\n",
    "if hemisferio == \"Norte\":\n",
    "    if (mes == 3 and dia >= 21) or (mes > 3 and mes < 6):\n",
    "        estacion = \"primavera\"\n",
    "    elif (mes == 6 and dia >= 21) or (mes > 5 and mes < 9):\n",
    "        estacion = \"verano\"\n",
    "    elif (mes == 9 and dia >= 21) or (mes > 8 and mes < 12):\n",
    "        estacion = \"otoño\"\n",
    "    else:\n",
    "        estacion = \"invierno\"\n",
    "\n",
    "elif hemisferio == \"Sur\":\n",
    "    if (mes == 3 and dia >= 21) or (mes > 3 and mes < 6):\n",
    "        estacion = \"otoño\"\n",
    "    elif (mes == 6 and dia >= 21) or (mes > 5 and mes < 9):\n",
    "        estacion = \"invierno\"\n",
    "    elif (mes == 9 and dia >= 21) or (mes > 8 and mes < 12):\n",
    "        estacion = \"primavera\"\n",
    "    else:\n",
    "        estacion = \"verano\"\n",
    "\n",
    "else:\n",
    "  print(\"Valor ingresado no valido.\")\n",
    "\n",
    "print(f\"En el hemisferio {hemisferio}, se encuentra en la estacion {estacion}.\")"
   ]
  }
 ],
 "metadata": {
  "kernelspec": {
   "display_name": "Python 3",
   "language": "python",
   "name": "python3"
  },
  "language_info": {
   "codemirror_mode": {
    "name": "ipython",
    "version": 3
   },
   "file_extension": ".py",
   "mimetype": "text/x-python",
   "name": "python",
   "nbconvert_exporter": "python",
   "pygments_lexer": "ipython3",
   "version": "3.11.9"
  }
 },
 "nbformat": 4,
 "nbformat_minor": 5
}
