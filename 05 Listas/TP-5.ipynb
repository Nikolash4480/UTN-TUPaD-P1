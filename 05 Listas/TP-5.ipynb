{
 "cells": [
  {
   "cell_type": "markdown",
   "id": "2038c0c5",
   "metadata": {},
   "source": [
    "Práctico 5: Funciones\n",
    "Alumno: Nikolas Barroso"
   ]
  },
  {
   "cell_type": "markdown",
   "id": "6c151651",
   "metadata": {},
   "source": [
    "1) Crear una lista con los números del 1 al 100 que sean múltiplos de 4. Utilizar la función range."
   ]
  },
  {
   "cell_type": "code",
   "execution_count": 1,
   "id": "f5e49211",
   "metadata": {},
   "outputs": [
    {
     "name": "stdout",
     "output_type": "stream",
     "text": [
      "Lista de múltiplos de 4 del 1 al 100:\n",
      "[4, 8, 12, 16, 20, 24, 28, 32, 36, 40, 44, 48, 52, 56, 60, 64, 68, 72, 76, 80, 84, 88, 92, 96]\n"
     ]
    }
   ],
   "source": [
    "lista_multiplos = list(range(4, 100, 4))\n",
    "\n",
    "print(\"Lista de múltiplos de 4 del 1 al 100:\")\n",
    "print(lista_multiplos)\n"
   ]
  },
  {
   "cell_type": "markdown",
   "id": "b16c8044",
   "metadata": {},
   "source": [
    "2) Crear una lista con cinco elementos (colocar los elementos que más te gusten) y mostrar el penúltimo. ¡Puedes hacerlo como se muestra en los videos o bien investigar cómo funciona el indexing con números negativos!"
   ]
  },
  {
   "cell_type": "code",
   "execution_count": 4,
   "id": "965e2609",
   "metadata": {},
   "outputs": [
    {
     "name": "stdout",
     "output_type": "stream",
     "text": [
      "Penúltimo elemento usando índice negativo: CPU\n"
     ]
    }
   ],
   "source": [
    "lista_elementos = [\"Nikolas\", \"facultad\", \"programación\", \"CPU\", \"juegos\"]\n",
    "\n",
    "print(f\"Penúltimo elemento usando índice negativo: {lista_elementos[-2]}\")"
   ]
  },
  {
   "cell_type": "markdown",
   "id": "3df3d8ce",
   "metadata": {},
   "source": [
    "3) Crear una lista vacía, agregar tres palabras con append e imprimir la lista resultante por pantalla. Pista: para crear una lista vacía debes colocar los corchetes sin nada en su interior. Por ejemplo:\n",
    "\n",
    "lista_vacia = []"
   ]
  },
  {
   "cell_type": "code",
   "execution_count": 6,
   "id": "b095d099",
   "metadata": {},
   "outputs": [
    {
     "name": "stdout",
     "output_type": "stream",
     "text": [
      "Lista vacía después de agregar elementos:\n",
      "['futbol', 'café', 'Javascript']\n"
     ]
    }
   ],
   "source": [
    "lista_vacia = []\n",
    "\n",
    "lista_vacia.append(\"futbol\")\n",
    "lista_vacia.append(\"café\")\n",
    "lista_vacia.append(\"Javascript\")\n",
    "\n",
    "print(\"Lista vacía después de agregar elementos:\")\n",
    "print(lista_vacia)"
   ]
  },
  {
   "cell_type": "markdown",
   "id": "5b5cf395",
   "metadata": {},
   "source": [
    "4) Reemplazar el segundo y último valor de la lista “animales” con las palabras “loro” y “oso”, respectivamente. Imprimir la lista resultante por pantalla. ¡Puedes hacerlo como se muestra en los videos o bien investigar cómo funciona el indexing con números negativos! animales = [\"perro\", \"gato\", \"conejo\", \"pez\"]"
   ]
  },
  {
   "cell_type": "code",
   "execution_count": 13,
   "id": "5c174ad5",
   "metadata": {},
   "outputs": [
    {
     "name": "stdout",
     "output_type": "stream",
     "text": [
      "Lista de animales es:\n",
      "['perro', 'loro', 'conejo', 'oso']\n"
     ]
    }
   ],
   "source": [
    "animales = [\"perro\", \"gato\", \"conejo\", \"pez\"]\n",
    "\n",
    "animales[1] = \"loro\"\n",
    "animales[-1] = \"oso\"\n",
    "\n",
    "print(\"Lista de animales es:\")\n",
    "print(animales)"
   ]
  },
  {
   "cell_type": "markdown",
   "id": "7f3adce8",
   "metadata": {},
   "source": [
    "5) Analizar el siguiente programa y explicar con tus palabras qué es lo que realiza.\n",
    "\n",
    "numeros = [8, 15, 3, 22, 7]\n",
    "numeros.remove(max(numeros))\n",
    "print(numeros)"
   ]
  },
  {
   "cell_type": "markdown",
   "id": "dc4fc8f7",
   "metadata": {},
   "source": [
    "5_ En la primer linea de codigo, se crea e inicializa la lista numeros = [] con los valores: 8, 15, 3, 22 y 7.\n",
    "En la segunda linea, hace que .remove() busque y elimine el numero mas alto con max(numeros), que en este caso seria 22.\n",
    "Por ultimo, imprime la lista numeros con los valores de la siguiente manera:\n",
    "[8, 15, 3, 7]"
   ]
  },
  {
   "cell_type": "markdown",
   "id": "0d9480d0",
   "metadata": {},
   "source": [
    "6) Crear una lista con números del 10 al 30 (incluído), haciendo saltos de 5 en 5 y mostrar por pantalla los dos primeros."
   ]
  },
  {
   "cell_type": "code",
   "execution_count": 9,
   "id": "e2304627",
   "metadata": {},
   "outputs": [
    {
     "name": "stdout",
     "output_type": "stream",
     "text": [
      "Los dos primeros numeros de la lista son: [10, 15]\n"
     ]
    }
   ],
   "source": [
    "numeros = list(range(10, 31, 5))\n",
    "\n",
    "print(f\"Los dos primeros numeros de la lista son: {numeros[:2]}\")"
   ]
  },
  {
   "cell_type": "markdown",
   "id": "b46b7723",
   "metadata": {},
   "source": [
    "7) Reemplazar los dos valores centrales (índices 1 y 2) de la lista “autos” por dos nuevos valores cualesquiera.\n",
    "\n",
    "autos = [\"sedan\", \"polo\", \"suran\", \"gol\"]"
   ]
  },
  {
   "cell_type": "code",
   "execution_count": 14,
   "id": "384c2953",
   "metadata": {},
   "outputs": [
    {
     "name": "stdout",
     "output_type": "stream",
     "text": [
      "La lista de autos es:\n",
      "['corolla', 'yaris', 'suran', 'gol']\n"
     ]
    }
   ],
   "source": [
    "autos = [\"sedan\", \"polo\", \"suran\", \"gol\"]\n",
    "\n",
    "autos[0] = \"corolla\"\n",
    "autos[1] = \"yaris\"\n",
    "\n",
    "print(\"La lista de autos es:\")\n",
    "print(autos)"
   ]
  },
  {
   "cell_type": "markdown",
   "id": "b15546dd",
   "metadata": {},
   "source": [
    "8) Crear una lista vacía llamada \"dobles\" y agregar el doble de 5, 10 y 15 usando append directamente. Imprimir la lista resultante por pantalla."
   ]
  },
  {
   "cell_type": "code",
   "execution_count": null,
   "id": "178699e4",
   "metadata": {},
   "outputs": [],
   "source": [
    "dobles = []\n",
    "\n",
    "dobles.append(5 * 2)\n",
    "dobles.append(10 * 2)\n",
    "dobles.append(15 * 2)\n",
    "\n",
    "print(\"Lista de dobles:\")\n",
    "print(dobles)"
   ]
  },
  {
   "cell_type": "markdown",
   "id": "4c8df626",
   "metadata": {},
   "source": [
    "9) Dada la lista “compras”, cuyos elementos representan los productos comprados por\n",
    "diferentes clientes: \n",
    "compras = [[\"pan\", \"leche\"], [\"arroz\", \"fideos\", \"salsa\"], [\"agua\"]]\n",
    "\n",
    "  a) Agregar \"jugo\" a la lista del tercer cliente usando append.\n",
    "  b) Reemplazar \"fideos\" por \"tallarines\" en la lista del segundo cliente.\n",
    "  c) Eliminar \"pan\" de la lista del primer cliente.\n",
    "  d) Imprimir la lista resultante por pantalla."
   ]
  },
  {
   "cell_type": "code",
   "execution_count": 19,
   "id": "8e873841",
   "metadata": {},
   "outputs": [
    {
     "name": "stdout",
     "output_type": "stream",
     "text": [
      "Lista de compras:\n",
      "[['leche'], ['arroz', 'tallarines', 'salsa'], ['agua', 'jugo']]\n"
     ]
    }
   ],
   "source": [
    "compras = [[\"pan\", \"leche\"], [\"arroz\", \"fideos\", \"salsa\"], [\"agua\"]]\n",
    "\n",
    "compras[2].append(\"jugo\")\n",
    "compras[1][compras[1].index(\"fideos\")] = \"tallarines\"\n",
    "compras[0].remove(\"pan\")\n",
    "\n",
    "print(\"Lista de compras:\")\n",
    "print(compras)"
   ]
  },
  {
   "cell_type": "markdown",
   "id": "d9243838",
   "metadata": {},
   "source": [
    "10) Elaborar una lista anidada llamada “lista_anidada” que contenga los siguientes elementos:\n",
    "  ● Posición lista_anidada[0]: 15\n",
    "  ● Posición lista_anidada[1]: True\n",
    "  ● Posición lista_anidada[2][0]: 25.5\n",
    "  ● Posición lista_anidada[2][1]: 57.9\n",
    "  ● Posición lista_anidada[2][2]: 30.6\n",
    "  ● Posición lista_anidada[3]: False\n",
    "Imprimir la lista resultante por pantalla."
   ]
  },
  {
   "cell_type": "code",
   "execution_count": null,
   "id": "7e28bed3",
   "metadata": {},
   "outputs": [
    {
     "name": "stdout",
     "output_type": "stream",
     "text": [
      "Lista anidada:\n",
      "[[15], [True], [25.5, 57.9, 30.6], [False]]\n"
     ]
    }
   ],
   "source": [
    "lista_anidada = [15, True, [25.5, 57.9, 30.6], False]\n",
    "\n",
    "print(\"Lista anidada:\")\n",
    "print(lista_anidada)"
   ]
  }
 ],
 "metadata": {
  "kernelspec": {
   "display_name": "Python 3",
   "language": "python",
   "name": "python3"
  },
  "language_info": {
   "codemirror_mode": {
    "name": "ipython",
    "version": 3
   },
   "file_extension": ".py",
   "mimetype": "text/x-python",
   "name": "python",
   "nbconvert_exporter": "python",
   "pygments_lexer": "ipython3",
   "version": "3.11.9"
  }
 },
 "nbformat": 4,
 "nbformat_minor": 5
}
