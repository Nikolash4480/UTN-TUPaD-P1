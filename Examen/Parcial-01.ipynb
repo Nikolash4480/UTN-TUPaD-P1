{
 "cells": [
  {
   "cell_type": "code",
   "execution_count": 5,
   "id": "90ab28de",
   "metadata": {},
   "outputs": [
    {
     "name": "stdout",
     "output_type": "stream",
     "text": [
      "1 2 3 2 4 6 "
     ]
    }
   ],
   "source": [
    "for t in range(1, 3):\n",
    "    for n in range(1, 4):\n",
    "        print(t * n, end=\" \")"
   ]
  },
  {
   "cell_type": "code",
   "execution_count": 10,
   "id": "10acc2ed",
   "metadata": {},
   "outputs": [
    {
     "name": "stdout",
     "output_type": "stream",
     "text": [
      "Resultado final: 51\n"
     ]
    }
   ],
   "source": [
    "num1 = 3\n",
    "num2 = 7\n",
    "num3 = 4\n",
    "\n",
    "if num2 % 2 != 0:  # num2 es impar\n",
    "    x = 3 * num2\n",
    "else:\n",
    "    x = num2 * 2\n",
    "\n",
    "if x % 2 == 0:  # x es par\n",
    "    t = x + num3\n",
    "else:\n",
    "    t = x - num3\n",
    "\n",
    "if t == 10:  # t es mayor que 10\n",
    "    resultado_final = t + num1\n",
    "else:\n",
    "    resultado_final = t * num1\n",
    "\n",
    "print(f\"Resultado final: {resultado_final}\")"
   ]
  },
  {
   "cell_type": "code",
   "execution_count": null,
   "id": "7341ec55",
   "metadata": {},
   "outputs": [],
   "source": [
    "contador = 1\n",
    "suma = 0\n",
    "bandera = True\n",
    "\n",
    "num1 = int(input(\"Ingrese un valor N°1:\"))  # num1 = 3\n",
    "\n",
    "while bandera:\n",
    "    num2 = int(input(\"Ingrese un valor N°2:\"))  # num2 = 5\n",
    "    suma = suma + num2\n",
    "    contador = contador + 1\n",
    "\n",
    "    while contador <= num1:\n",
    "        print(suma, end=\",\")\n",
    "        bandera = False\n",
    "        if contador == num1:\n",
    "            bandera = True\n",
    "            break"
   ]
  },
  {
   "cell_type": "code",
   "execution_count": 1,
   "id": "0f1a17d1",
   "metadata": {},
   "outputs": [
    {
     "name": "stdout",
     "output_type": "stream",
     "text": [
      "6\n"
     ]
    }
   ],
   "source": [
    "num1 = 3\n",
    "vector = [4, 6, 1]\n",
    "\n",
    "mayor = vector[0]\n",
    "\n",
    "# Usando las opciones disponibles: range(1, num1) y la condición con >\n",
    "for i in range(1, num1):\n",
    "    if vector[i] > mayor:\n",
    "        mayor = vector[i]\n",
    "\n",
    "print(mayor)"
   ]
  },
  {
   "cell_type": "code",
   "execution_count": 1,
   "id": "bb5641d5",
   "metadata": {},
   "outputs": [],
   "source": [
    "# Entrada de datos\n",
    "dia = int(input(\"Introduce el valor N°1: \"))  # Día\n",
    "mes = int(input(\"Introduce el valor N°2: \"))  # Mes\n",
    "anio = int(input(\"Introduce el valor N°3: \"))  # Año\n",
    "\n",
    "# Determinar la cantidad de días del mes\n",
    "if mes in [1, 3, 5, 7, 8, 10, 12]:  # Meses con 31 días\n",
    "    dd = 31\n",
    "elif mes in [4, 6, 9, 11]:  # Meses con 30 días\n",
    "    dd = 30\n",
    "elif mes == 2:  # Febrero\n",
    "    if (anio % 4 == 0 and anio % 100 != 0) or (anio % 400 == 0):  # Año bisiesto\n",
    "        dd = 29\n",
    "    else:\n",
    "        dd = 28\n",
    "else:\n",
    "    print(\"A\")\n",
    "    dd = -1\n",
    "\n",
    "# Validar el día y el mes\n",
    "if dd == -1:  # Caso de error\n",
    "    if dia < 1 or dia > dd:\n",
    "        print(\"B\")\n",
    "    elif mes < 1 or mes > 12:\n",
    "        print(\"C\")\n",
    "    else:\n",
    "        print(\"D\")"
   ]
  }
 ],
 "metadata": {
  "kernelspec": {
   "display_name": "Python 3",
   "language": "python",
   "name": "python3"
  },
  "language_info": {
   "codemirror_mode": {
    "name": "ipython",
    "version": 3
   },
   "file_extension": ".py",
   "mimetype": "text/x-python",
   "name": "python",
   "nbconvert_exporter": "python",
   "pygments_lexer": "ipython3",
   "version": "3.11.9"
  }
 },
 "nbformat": 4,
 "nbformat_minor": 5
}
