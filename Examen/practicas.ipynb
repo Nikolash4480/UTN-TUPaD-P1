{
 "cells": [
  {
   "cell_type": "code",
   "execution_count": 1,
   "id": "ea3f943f",
   "metadata": {},
   "outputs": [
    {
     "name": "stdout",
     "output_type": "stream",
     "text": [
      "102.0\n"
     ]
    }
   ],
   "source": [
    "def calcular_precio_final(precio, descuento=0):\n",
    "    precio_final = precio - (precio * descuento / 100)\n",
    "    return round(precio_final, 2)\n",
    "\n",
    "resultado = calcular_precio_final(120, 15)\n",
    "print(resultado)"
   ]
  },
  {
   "cell_type": "code",
   "execution_count": 8,
   "id": "b4d7cfb8",
   "metadata": {},
   "outputs": [
    {
     "name": "stdout",
     "output_type": "stream",
     "text": [
      "120\n"
     ]
    }
   ],
   "source": [
    "n = 5\n",
    "\n",
    "def factorial(n):\n",
    "    if n == 0:\n",
    "        return 1\n",
    "    else:\n",
    "        return n * factorial(n - 1)\n",
    "    \n",
    "print(factorial(n))"
   ]
  },
  {
   "cell_type": "code",
   "execution_count": 9,
   "id": "eec078ce",
   "metadata": {},
   "outputs": [
    {
     "name": "stdout",
     "output_type": "stream",
     "text": [
      "--- Ejercicio 1 ---\n",
      "Factoriales desde 1 hasta 5:\n",
      "El factorial de 1 es: 1\n",
      "El factorial de 2 es: 2\n",
      "El factorial de 3 es: 6\n",
      "El factorial de 4 es: 24\n",
      "El factorial de 5 es: 120\n"
     ]
    }
   ],
   "source": [
    "def factorial_recursivo(n):\n",
    "    if n == 0:\n",
    "        return 1\n",
    "    else:\n",
    "        return n * factorial_recursivo(n - 1)\n",
    "\n",
    "if __name__ == \"__main__\":\n",
    "    print(\"--- Ejercicio 1 ---\")\n",
    "    try:\n",
    "        numero_usuario = int(input(\"Ingresa un número entero para calcular su factorial y los anteriores: \"))\n",
    "        if numero_usuario < 0:\n",
    "            print(\"El factorial no está definido para números negativos.\")\n",
    "        else:\n",
    "            print(f\"Factoriales desde 1 hasta {numero_usuario}:\")\n",
    "            for i in range(1, numero_usuario + 1):\n",
    "                print(f\"El factorial de {i} es: {factorial_recursivo(i)}\")\n",
    "    except ValueError:\n",
    "        print(\"Entrada inválida. Por favor, ingresa un número entero.\")"
   ]
  },
  {
   "cell_type": "code",
   "execution_count": 10,
   "id": "b10ac570",
   "metadata": {},
   "outputs": [
    {
     "name": "stdout",
     "output_type": "stream",
     "text": [
      "Serie de Fibonacci hasta la posición 5:\n",
      "F(0) = 0\n",
      "F(1) = 1\n",
      "F(2) = 1\n",
      "F(3) = 2\n",
      "F(4) = 3\n",
      "F(5) = 5\n"
     ]
    }
   ],
   "source": [
    "def fibonacci_recursivo(n):\n",
    "    if n <= 0:\n",
    "        return 0\n",
    "    elif n == 1:\n",
    "        return 1\n",
    "    else:\n",
    "        return fibonacci_recursivo(n - 1) + fibonacci_recursivo(n - 2)\n",
    "\n",
    "if __name__ == \"__main__\":\n",
    "    try:\n",
    "        posicion_fibonacci = int(input(\"Ingresa la posición hasta la cual quieres ver la serie de Fibonacci: \"))\n",
    "        if posicion_fibonacci < 0:\n",
    "            print(\"La posición debe ser un número no negativo.\")\n",
    "        else:\n",
    "            print(f\"Serie de Fibonacci hasta la posición {posicion_fibonacci}:\")\n",
    "            for i in range(posicion_fibonacci + 1):\n",
    "                print(f\"F({i}) = {fibonacci_recursivo(i)}\")\n",
    "    except ValueError:\n",
    "        print(\"Entrada inválida. Por favor, ingresa un número entero.\")"
   ]
  }
 ],
 "metadata": {
  "kernelspec": {
   "display_name": "Python 3",
   "language": "python",
   "name": "python3"
  },
  "language_info": {
   "codemirror_mode": {
    "name": "ipython",
    "version": 3
   },
   "file_extension": ".py",
   "mimetype": "text/x-python",
   "name": "python",
   "nbconvert_exporter": "python",
   "pygments_lexer": "ipython3",
   "version": "3.11.9"
  }
 },
 "nbformat": 4,
 "nbformat_minor": 5
}
